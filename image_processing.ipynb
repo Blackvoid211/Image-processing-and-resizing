{
 "cells": [
  {
   "cell_type": "code",
   "execution_count": 1,
   "id": "e270e1f7-a90c-497c-bd7d-e06ff482ac4f",
   "metadata": {},
   "outputs": [
    {
     "name": "stdout",
     "output_type": "stream",
     "text": [
      "Requirement already satisfied: pillow in c:\\users\\ektaa\\anaconda3\\envs\\myenv\\lib\\site-packages (10.4.0)\n",
      "Requirement already satisfied: opencv-python in c:\\users\\ektaa\\anaconda3\\envs\\myenv\\lib\\site-packages (4.11.0.86)\n",
      "Requirement already satisfied: numpy in c:\\users\\ektaa\\anaconda3\\envs\\myenv\\lib\\site-packages (1.24.3)\n",
      "Requirement already satisfied: ipywidgets in c:\\users\\ektaa\\anaconda3\\envs\\myenv\\lib\\site-packages (8.1.5)\n",
      "Requirement already satisfied: comm>=0.1.3 in c:\\users\\ektaa\\anaconda3\\envs\\myenv\\lib\\site-packages (from ipywidgets) (0.2.1)\n",
      "Requirement already satisfied: ipython>=6.1.0 in c:\\users\\ektaa\\anaconda3\\envs\\myenv\\lib\\site-packages (from ipywidgets) (8.12.2)\n",
      "Requirement already satisfied: traitlets>=4.3.1 in c:\\users\\ektaa\\anaconda3\\envs\\myenv\\lib\\site-packages (from ipywidgets) (5.14.3)\n",
      "Requirement already satisfied: widgetsnbextension~=4.0.12 in c:\\users\\ektaa\\anaconda3\\envs\\myenv\\lib\\site-packages (from ipywidgets) (4.0.13)\n",
      "Requirement already satisfied: jupyterlab-widgets~=3.0.12 in c:\\users\\ektaa\\anaconda3\\envs\\myenv\\lib\\site-packages (from ipywidgets) (3.0.13)\n",
      "Requirement already satisfied: backcall in c:\\users\\ektaa\\anaconda3\\envs\\myenv\\lib\\site-packages (from ipython>=6.1.0->ipywidgets) (0.2.0)\n",
      "Requirement already satisfied: decorator in c:\\users\\ektaa\\anaconda3\\envs\\myenv\\lib\\site-packages (from ipython>=6.1.0->ipywidgets) (5.1.1)\n",
      "Requirement already satisfied: jedi>=0.16 in c:\\users\\ektaa\\anaconda3\\envs\\myenv\\lib\\site-packages (from ipython>=6.1.0->ipywidgets) (0.19.1)\n",
      "Requirement already satisfied: matplotlib-inline in c:\\users\\ektaa\\anaconda3\\envs\\myenv\\lib\\site-packages (from ipython>=6.1.0->ipywidgets) (0.1.6)\n",
      "Requirement already satisfied: pickleshare in c:\\users\\ektaa\\anaconda3\\envs\\myenv\\lib\\site-packages (from ipython>=6.1.0->ipywidgets) (0.7.5)\n",
      "Requirement already satisfied: prompt-toolkit!=3.0.37,<3.1.0,>=3.0.30 in c:\\users\\ektaa\\anaconda3\\envs\\myenv\\lib\\site-packages (from ipython>=6.1.0->ipywidgets) (3.0.43)\n",
      "Requirement already satisfied: pygments>=2.4.0 in c:\\users\\ektaa\\anaconda3\\envs\\myenv\\lib\\site-packages (from ipython>=6.1.0->ipywidgets) (2.15.1)\n",
      "Requirement already satisfied: stack-data in c:\\users\\ektaa\\anaconda3\\envs\\myenv\\lib\\site-packages (from ipython>=6.1.0->ipywidgets) (0.2.0)\n",
      "Requirement already satisfied: typing-extensions in c:\\users\\ektaa\\anaconda3\\envs\\myenv\\lib\\site-packages (from ipython>=6.1.0->ipywidgets) (4.13.0)\n",
      "Requirement already satisfied: colorama in c:\\users\\ektaa\\anaconda3\\envs\\myenv\\lib\\site-packages (from ipython>=6.1.0->ipywidgets) (0.4.6)\n",
      "Requirement already satisfied: parso<0.9.0,>=0.8.3 in c:\\users\\ektaa\\anaconda3\\envs\\myenv\\lib\\site-packages (from jedi>=0.16->ipython>=6.1.0->ipywidgets) (0.8.3)\n",
      "Requirement already satisfied: wcwidth in c:\\users\\ektaa\\anaconda3\\envs\\myenv\\lib\\site-packages (from prompt-toolkit!=3.0.37,<3.1.0,>=3.0.30->ipython>=6.1.0->ipywidgets) (0.2.5)\n",
      "Requirement already satisfied: executing in c:\\users\\ektaa\\anaconda3\\envs\\myenv\\lib\\site-packages (from stack-data->ipython>=6.1.0->ipywidgets) (0.8.3)\n",
      "Requirement already satisfied: asttokens in c:\\users\\ektaa\\anaconda3\\envs\\myenv\\lib\\site-packages (from stack-data->ipython>=6.1.0->ipywidgets) (2.0.5)\n",
      "Requirement already satisfied: pure-eval in c:\\users\\ektaa\\anaconda3\\envs\\myenv\\lib\\site-packages (from stack-data->ipython>=6.1.0->ipywidgets) (0.2.2)\n",
      "Requirement already satisfied: six in c:\\users\\ektaa\\anaconda3\\envs\\myenv\\lib\\site-packages (from asttokens->stack-data->ipython>=6.1.0->ipywidgets) (1.16.0)\n",
      "Requirement already satisfied: ipympl in c:\\users\\ektaa\\anaconda3\\envs\\myenv\\lib\\site-packages (0.9.3)\n",
      "Requirement already satisfied: ipython<9 in c:\\users\\ektaa\\anaconda3\\envs\\myenv\\lib\\site-packages (from ipympl) (8.12.2)\n",
      "Requirement already satisfied: numpy in c:\\users\\ektaa\\anaconda3\\envs\\myenv\\lib\\site-packages (from ipympl) (1.24.3)\n",
      "Requirement already satisfied: ipython-genutils in c:\\users\\ektaa\\anaconda3\\envs\\myenv\\lib\\site-packages (from ipympl) (0.2.0)\n",
      "Requirement already satisfied: pillow in c:\\users\\ektaa\\anaconda3\\envs\\myenv\\lib\\site-packages (from ipympl) (10.4.0)\n",
      "Requirement already satisfied: traitlets<6 in c:\\users\\ektaa\\anaconda3\\envs\\myenv\\lib\\site-packages (from ipympl) (5.14.3)\n",
      "Requirement already satisfied: ipywidgets<9,>=7.6.0 in c:\\users\\ektaa\\anaconda3\\envs\\myenv\\lib\\site-packages (from ipympl) (8.1.5)\n",
      "Requirement already satisfied: matplotlib<4,>=3.4.0 in c:\\users\\ektaa\\anaconda3\\envs\\myenv\\lib\\site-packages (from ipympl) (3.7.5)\n",
      "Requirement already satisfied: backcall in c:\\users\\ektaa\\anaconda3\\envs\\myenv\\lib\\site-packages (from ipython<9->ipympl) (0.2.0)\n",
      "Requirement already satisfied: decorator in c:\\users\\ektaa\\anaconda3\\envs\\myenv\\lib\\site-packages (from ipython<9->ipympl) (5.1.1)\n",
      "Requirement already satisfied: jedi>=0.16 in c:\\users\\ektaa\\anaconda3\\envs\\myenv\\lib\\site-packages (from ipython<9->ipympl) (0.19.1)\n",
      "Requirement already satisfied: matplotlib-inline in c:\\users\\ektaa\\anaconda3\\envs\\myenv\\lib\\site-packages (from ipython<9->ipympl) (0.1.6)\n",
      "Requirement already satisfied: pickleshare in c:\\users\\ektaa\\anaconda3\\envs\\myenv\\lib\\site-packages (from ipython<9->ipympl) (0.7.5)\n",
      "Requirement already satisfied: prompt-toolkit!=3.0.37,<3.1.0,>=3.0.30 in c:\\users\\ektaa\\anaconda3\\envs\\myenv\\lib\\site-packages (from ipython<9->ipympl) (3.0.43)\n",
      "Requirement already satisfied: pygments>=2.4.0 in c:\\users\\ektaa\\anaconda3\\envs\\myenv\\lib\\site-packages (from ipython<9->ipympl) (2.15.1)\n",
      "Requirement already satisfied: stack-data in c:\\users\\ektaa\\anaconda3\\envs\\myenv\\lib\\site-packages (from ipython<9->ipympl) (0.2.0)\n",
      "Requirement already satisfied: typing-extensions in c:\\users\\ektaa\\anaconda3\\envs\\myenv\\lib\\site-packages (from ipython<9->ipympl) (4.13.0)\n",
      "Requirement already satisfied: colorama in c:\\users\\ektaa\\anaconda3\\envs\\myenv\\lib\\site-packages (from ipython<9->ipympl) (0.4.6)\n",
      "Requirement already satisfied: comm>=0.1.3 in c:\\users\\ektaa\\anaconda3\\envs\\myenv\\lib\\site-packages (from ipywidgets<9,>=7.6.0->ipympl) (0.2.1)\n",
      "Requirement already satisfied: widgetsnbextension~=4.0.12 in c:\\users\\ektaa\\anaconda3\\envs\\myenv\\lib\\site-packages (from ipywidgets<9,>=7.6.0->ipympl) (4.0.13)\n",
      "Requirement already satisfied: jupyterlab-widgets~=3.0.12 in c:\\users\\ektaa\\anaconda3\\envs\\myenv\\lib\\site-packages (from ipywidgets<9,>=7.6.0->ipympl) (3.0.13)\n",
      "Requirement already satisfied: contourpy>=1.0.1 in c:\\users\\ektaa\\anaconda3\\envs\\myenv\\lib\\site-packages (from matplotlib<4,>=3.4.0->ipympl) (1.1.1)\n",
      "Requirement already satisfied: cycler>=0.10 in c:\\users\\ektaa\\anaconda3\\envs\\myenv\\lib\\site-packages (from matplotlib<4,>=3.4.0->ipympl) (0.12.1)\n",
      "Requirement already satisfied: fonttools>=4.22.0 in c:\\users\\ektaa\\anaconda3\\envs\\myenv\\lib\\site-packages (from matplotlib<4,>=3.4.0->ipympl) (4.55.8)\n",
      "Requirement already satisfied: kiwisolver>=1.0.1 in c:\\users\\ektaa\\anaconda3\\envs\\myenv\\lib\\site-packages (from matplotlib<4,>=3.4.0->ipympl) (1.4.7)\n",
      "Requirement already satisfied: packaging>=20.0 in c:\\users\\ektaa\\anaconda3\\envs\\myenv\\lib\\site-packages (from matplotlib<4,>=3.4.0->ipympl) (24.1)\n",
      "Requirement already satisfied: pyparsing>=2.3.1 in c:\\users\\ektaa\\anaconda3\\envs\\myenv\\lib\\site-packages (from matplotlib<4,>=3.4.0->ipympl) (3.1.4)\n",
      "Requirement already satisfied: python-dateutil>=2.7 in c:\\users\\ektaa\\anaconda3\\envs\\myenv\\lib\\site-packages (from matplotlib<4,>=3.4.0->ipympl) (2.9.0.post0)\n",
      "Requirement already satisfied: importlib-resources>=3.2.0 in c:\\users\\ektaa\\anaconda3\\envs\\myenv\\lib\\site-packages (from matplotlib<4,>=3.4.0->ipympl) (6.4.0)\n",
      "Requirement already satisfied: zipp>=3.1.0 in c:\\users\\ektaa\\anaconda3\\envs\\myenv\\lib\\site-packages (from importlib-resources>=3.2.0->matplotlib<4,>=3.4.0->ipympl) (3.20.2)\n",
      "Requirement already satisfied: parso<0.9.0,>=0.8.3 in c:\\users\\ektaa\\anaconda3\\envs\\myenv\\lib\\site-packages (from jedi>=0.16->ipython<9->ipympl) (0.8.3)\n",
      "Requirement already satisfied: wcwidth in c:\\users\\ektaa\\anaconda3\\envs\\myenv\\lib\\site-packages (from prompt-toolkit!=3.0.37,<3.1.0,>=3.0.30->ipython<9->ipympl) (0.2.5)\n",
      "Requirement already satisfied: six>=1.5 in c:\\users\\ektaa\\anaconda3\\envs\\myenv\\lib\\site-packages (from python-dateutil>=2.7->matplotlib<4,>=3.4.0->ipympl) (1.16.0)\n",
      "Requirement already satisfied: executing in c:\\users\\ektaa\\anaconda3\\envs\\myenv\\lib\\site-packages (from stack-data->ipython<9->ipympl) (0.8.3)\n",
      "Requirement already satisfied: asttokens in c:\\users\\ektaa\\anaconda3\\envs\\myenv\\lib\\site-packages (from stack-data->ipython<9->ipympl) (2.0.5)\n",
      "Requirement already satisfied: pure-eval in c:\\users\\ektaa\\anaconda3\\envs\\myenv\\lib\\site-packages (from stack-data->ipython<9->ipympl) (0.2.2)\n",
      "Requirement already satisfied: opencv-contrib-python in c:\\users\\ektaa\\appdata\\roaming\\python\\python38\\site-packages (4.11.0.86)\n",
      "Requirement already satisfied: numpy>=1.17.0 in c:\\users\\ektaa\\anaconda3\\envs\\myenv\\lib\\site-packages (from opencv-contrib-python) (1.24.3)\n"
     ]
    }
   ],
   "source": [
    "!pip install pillow opencv-python numpy ipywidgets\n",
    "\n",
    "!pip install ipympl\n",
    "!pip install opencv-contrib-python\n"
   ]
  },
  {
   "cell_type": "code",
   "execution_count": 2,
   "id": "0e53e68d-e472-4c92-8d2d-90436a59608e",
   "metadata": {},
   "outputs": [
    {
     "name": "stdout",
     "output_type": "stream",
     "text": [
      "Requirement already satisfied: opencv-contrib-python in c:\\users\\ektaa\\appdata\\roaming\\python\\python38\\site-packages (4.11.0.86)\n",
      "Requirement already satisfied: numpy>=1.17.0 in c:\\users\\ektaa\\anaconda3\\envs\\myenv\\lib\\site-packages (from opencv-contrib-python) (1.24.3)\n"
     ]
    }
   ],
   "source": [
    "!pip install --user opencv-contrib-python"
   ]
  },
  {
   "cell_type": "code",
   "execution_count": 10,
   "id": "6cab89a3-a009-4160-8ab6-4e1e7aa7c623",
   "metadata": {},
   "outputs": [],
   "source": [
    "import cv2\n",
    "import os\n",
    "import numpy as np\n",
    "from PIL import Image, ImageOps\n",
    "import IPython.display as display"
   ]
  },
  {
   "cell_type": "code",
   "execution_count": 2,
   "id": "656425d8-3bb9-432a-95d6-2dbcb650fd5e",
   "metadata": {},
   "outputs": [
    {
     "name": "stdin",
     "output_type": "stream",
     "text": [
      "Enter the path to your image file:  C:\\\\Users\\\\ektaa\\\\OneDrive\\\\Pictures\\\\Screenshots\\\\Screenshot (84).png\n"
     ]
    },
    {
     "name": "stdout",
     "output_type": "stream",
     "text": [
      "Cropped image saved as 'cropped_image.jpg'.\n",
      "Cropping successful!\n"
     ]
    }
   ],
   "source": [
    "def manual_crop(image_path):\n",
    "   \n",
    "    img_cv = cv2.imread(image_path)\n",
    "    if img_cv is None:\n",
    "        print(\"Error: Could not load image from\", image_path)\n",
    "        return None\n",
    "\n",
    "    while True:\n",
    "        # Create a resizable window and show the image\n",
    "        cv2.namedWindow(\"Select ROI\", cv2.WINDOW_NORMAL)\n",
    "        cv2.imshow(\"Select ROI\", img_cv)\n",
    "        cv2.waitKey(1)  \n",
    "\n",
    "        r = cv2.selectROI(\"Select ROI\", img_cv, fromCenter=False, showCrosshair=True)\n",
    "        cv2.destroyAllWindows()  \n",
    "\n",
    "      \n",
    "        if r[2] == 0 or r[3] == 0:\n",
    "            print(\"No valid region selected! Try again.\")\n",
    "            retry = input(\"Do you want to try again? (y/n): \").strip().lower()\n",
    "            if retry != 'y':\n",
    "                return None\n",
    "            continue  \n",
    "\n",
    "        x, y, w, h = r\n",
    "        cropped_cv = img_cv[y:y+h, x:x+w]\n",
    "\n",
    "        cropped_img = Image.fromarray(cv2.cvtColor(cropped_cv, cv2.COLOR_BGR2RGB))\n",
    "        \n",
    "        cv2.namedWindow(\"Cropped Image\", cv2.WINDOW_NORMAL)\n",
    "        cv2.imshow(\"Cropped Image\", cropped_cv)\n",
    "        cv2.waitKey(0)\n",
    "        cv2.destroyAllWindows()\n",
    "\n",
    "        output_path = \"cropped_image.jpg\"\n",
    "        cropped_img.save(output_path)\n",
    "        print(f\"Cropped image saved as '{output_path}'.\")\n",
    "\n",
    "        return cropped_img  \n",
    "\n",
    "if __name__ == \"__main__\":\n",
    "    image_path = input(\"Enter the path to your image file: \").strip()\n",
    "    cropped_img = manual_crop(image_path)\n",
    "    \n",
    "    if cropped_img:\n",
    "        print(\"Cropping successful!\")\n",
    "    else:\n",
    "        print(\"No image was cropped.\")"
   ]
  },
  {
   "cell_type": "code",
   "execution_count": 3,
   "id": "720b1a08-2b5c-4f73-857a-8d2ae6f00bd1",
   "metadata": {},
   "outputs": [
    {
     "name": "stdin",
     "output_type": "stream",
     "text": [
      "Enter the full path to your image file:  C:\\\\Users\\\\ektaa\\\\OneDrive\\\\Pictures\\\\Screenshots\\\\Screenshot (84).png\n"
     ]
    },
    {
     "name": "stdout",
     "output_type": "stream",
     "text": [
      "Cropped image saved as 'auto_cropped.jpg'.\n"
     ]
    }
   ],
   "source": [
    "def auto_crop(image_path, save_path=\"auto_cropped.jpg\"):\n",
    "    img = cv2.imread(image_path)\n",
    "    if img is None:\n",
    "        print(\"Error: Could not load image from\", image_path)\n",
    "        return None\n",
    "\n",
    "    saliency = cv2.saliency.StaticSaliencySpectralResidual_create()\n",
    "    (success, saliencyMap) = saliency.computeSaliency(img)\n",
    "    if not success:\n",
    "        print(\"Error: Saliency detection failed!\")\n",
    "        return None\n",
    "\n",
    "    saliencyMap = (saliencyMap * 255).astype(\"uint8\")\n",
    "\n",
    "    _, threshMap = cv2.threshold(saliencyMap, 0, 255, cv2.THRESH_BINARY | cv2.THRESH_OTSU)\n",
    "\n",
    "    contours, _ = cv2.findContours(threshMap.copy(), cv2.RETR_EXTERNAL, cv2.CHAIN_APPROX_SIMPLE)\n",
    "    if not contours:\n",
    "        print(\"No contours found; returning original image.\")\n",
    "        return Image.fromarray(cv2.cvtColor(img, cv2.COLOR_BGR2RGB))\n",
    "\n",
    "    largest_contour = max(contours, key=cv2.contourArea)\n",
    "    x, y, w, h = cv2.boundingRect(largest_contour)\n",
    "\n",
    "    cropped = img[y:y+h, x:x+w]\n",
    "\n",
    "    cv2.imwrite(save_path, cropped)\n",
    "    print(f\"Cropped image saved as '{save_path}'.\")\n",
    "\n",
    "    cropped_pil = Image.fromarray(cv2.cvtColor(cropped, cv2.COLOR_BGR2RGB))\n",
    "    return cropped_pil\n",
    "\n",
    "if __name__ == '__main__':\n",
    "    image_path = input(\"Enter the full path to your image file: \").strip()\n",
    "    cropped_image = auto_crop(image_path)\n",
    "    if cropped_image:\n",
    "        cropped_image.show()"
   ]
  },
  {
   "cell_type": "code",
   "execution_count": 4,
   "id": "7b680225-dad5-4da4-a9fb-7f6e3e81a6f7",
   "metadata": {},
   "outputs": [
    {
     "name": "stdin",
     "output_type": "stream",
     "text": [
      "Enter the path to your image file:  C:\\\\Users\\\\ektaa\\\\OneDrive\\\\Pictures\\\\Screenshots\\\\Screenshot (84).png\n",
      "Do you want to specify a margin size? (y/n):  n\n"
     ]
    },
    {
     "name": "stdout",
     "output_type": "stream",
     "text": [
      "Using automatic margin size: 38\n",
      "Image with margin saved as 'image_with_margin.jpg'.\n"
     ]
    }
   ],
   "source": [
    "def add_margin(image, margin_size=None, margin_color=(255, 255, 255)):\n",
    "    width, height = image.size\n",
    "\n",
    "    if margin_size is None:\n",
    "        margin_size = int(0.05 * min(width, height))\n",
    "        print(\"Using automatic margin size:\", margin_size)\n",
    "\n",
    "    new_size = (width + 2 * margin_size, height + 2 * margin_size)\n",
    "\n",
    "    new_img = Image.new(\"RGB\", new_size, margin_color)\n",
    "\n",
    "    new_img.paste(image, (margin_size, margin_size))\n",
    "    \n",
    "    return new_img\n",
    "\n",
    "if __name__ == '__main__':\n",
    "    image_path = input(\"Enter the path to your image file: \").strip()\n",
    "    image = Image.open(image_path)\n",
    "\n",
    "    choice = input(\"Do you want to specify a margin size? (y/n): \").strip().lower()\n",
    "    if choice == \"y\":\n",
    "        margin = int(input(\"Enter margin size in pixels: \"))\n",
    "    else:\n",
    "        margin = None  \n",
    "    \n",
    "    result_img = add_margin(image, margin)\n",
    "    result_img.show()\n",
    "\n",
    "    result_img.save(\"image_with_margin.jpg\")\n",
    "    print(\"Image with margin saved as 'image_with_margin.jpg'.\")"
   ]
  },
  {
   "cell_type": "code",
   "execution_count": 12,
   "id": "13bd3daa-cff9-40ad-bdfa-c4006fa42ce6",
   "metadata": {},
   "outputs": [
    {
     "name": "stdin",
     "output_type": "stream",
     "text": [
      "Enter the path to your image file:  C:\\\\Users\\\\ektaa\\\\OneDrive\\\\Pictures\\\\Screenshots\\\\Screenshot (84).png\n",
      "Enter target width (in pixels):  10000\n"
     ]
    },
    {
     "name": "stdout",
     "output_type": "stream",
     "text": [
      "Choose the desired aspect ratio:\n",
      "1. Original\n",
      "2. 16:9\n",
      "3. 4:3\n",
      "4. 1:1 (Square)\n",
      "5. Custom\n"
     ]
    },
    {
     "name": "stdin",
     "output_type": "stream",
     "text": [
      "Enter your choice (1-5):  3\n"
     ]
    },
    {
     "name": "stdout",
     "output_type": "stream",
     "text": [
      "Resized image saved as 'resized_image.jpg'.\n"
     ]
    }
   ],
   "source": [
    "def resize_image(image, target_width, aspect_ratio_choice=\"original\", custom_ratio=None):\n",
    "    if aspect_ratio_choice == \"original\":\n",
    "        width, height = image.size\n",
    "        new_height = int(target_width * height / width)\n",
    "    elif aspect_ratio_choice == \"16:9\":\n",
    "        new_height = int(target_width * 9 / 16)\n",
    "    elif aspect_ratio_choice == \"4:3\":\n",
    "        new_height = int(target_width * 3 / 4)\n",
    "    elif aspect_ratio_choice == \"1:1\":\n",
    "        new_height = target_width \n",
    "    elif aspect_ratio_choice == \"custom\" and custom_ratio is not None:\n",
    "        w_ratio, h_ratio = custom_ratio\n",
    "        new_height = int(target_width * h_ratio / w_ratio)\n",
    "    else:\n",
    "        width, height = image.size\n",
    "        new_height = int(target_width * height / width)\n",
    "    \n",
    "    resized_img = image.resize((target_width, new_height), Image.LANCZOS)\n",
    "    return resized_img\n",
    "\n",
    "if __name__ == '__main__':\n",
    "    image_path = input(\"Enter the path to your image file: \").strip()\n",
    "    target_width = int(input(\"Enter target width (in pixels): \"))\n",
    "    \n",
    "    print(\"Choose the desired aspect ratio:\")\n",
    "    print(\"1. Original\")\n",
    "    print(\"2. 16:9\")\n",
    "    print(\"3. 4:3\")\n",
    "    print(\"4. 1:1 (Square)\")\n",
    "    print(\"5. Custom\")\n",
    "    choice = input(\"Enter your choice (1-5): \").strip()\n",
    "\n",
    "    aspect_ratio = \"original\"\n",
    "    custom_ratio = None\n",
    "    if choice == \"1\":\n",
    "        aspect_ratio = \"original\"\n",
    "    elif choice == \"2\":\n",
    "        aspect_ratio = \"16:9\"\n",
    "    elif choice == \"3\":\n",
    "        aspect_ratio = \"4:3\"\n",
    "    elif choice == \"4\":\n",
    "        aspect_ratio = \"1:1\"\n",
    "    elif choice == \"5\":\n",
    "        aspect_ratio = \"custom\"\n",
    "        custom_input = input(\"Enter custom ratio as width:height (e.g., 3:2): \")\n",
    "        try:\n",
    "            w_str, h_str = custom_input.split(\":\")\n",
    "            custom_ratio = (float(w_str), float(h_str))\n",
    "        except Exception as e:\n",
    "            print(\"Invalid custom ratio. Defaulting to original aspect ratio.\")\n",
    "            aspect_ratio = \"original\"\n",
    "    else:\n",
    "        print(\"Invalid choice. Defaulting to original aspect ratio.\")\n",
    "    \n",
    "    image = Image.open(image_path)\n",
    "\n",
    "    resized_image = resize_image(image, target_width, aspect_ratio, custom_ratio)\n",
    " \n",
    "    resized_image.show()\n",
    "\n",
    "    resized_image = resized_image.convert(\"RGB\")\n",
    "\n",
    "\n",
    "    \n",
    "    output_path = \"resized_image.jpg\"\n",
    "    resized_image.save(output_path)\n",
    "    print(f\"Resized image saved as '{output_path}'.\")\n"
   ]
  },
  {
   "cell_type": "code",
   "execution_count": null,
   "id": "17738ebf-5501-4f06-9a8c-b786d27e331d",
   "metadata": {},
   "outputs": [],
   "source": []
  },
  {
   "cell_type": "code",
   "execution_count": null,
   "id": "12bf842e-b288-4095-8b0d-460c00cbbc39",
   "metadata": {},
   "outputs": [],
   "source": []
  }
 ],
 "metadata": {
  "kernelspec": {
   "display_name": "Python 3 (ipykernel)",
   "language": "python",
   "name": "python3"
  },
  "language_info": {
   "codemirror_mode": {
    "name": "ipython",
    "version": 3
   },
   "file_extension": ".py",
   "mimetype": "text/x-python",
   "name": "python",
   "nbconvert_exporter": "python",
   "pygments_lexer": "ipython3",
   "version": "3.8.20"
  }
 },
 "nbformat": 4,
 "nbformat_minor": 5
}
